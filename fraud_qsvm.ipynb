{
  "nbformat": 4,
  "nbformat_minor": 0,
  "metadata": {
    "colab": {
      "provenance": [],
      "authorship_tag": "ABX9TyPwGFMXDh6b2OlCbVSnbgj1",
      "include_colab_link": true
    },
    "kernelspec": {
      "name": "python3",
      "display_name": "Python 3"
    },
    "language_info": {
      "name": "python"
    }
  },
  "cells": [
    {
      "cell_type": "markdown",
      "metadata": {
        "id": "view-in-github",
        "colab_type": "text"
      },
      "source": [
        "<a href=\"https://colab.research.google.com/github/Brajesh31/fraud_qsvm/blob/main/fraud_qsvm.ipynb\" target=\"_parent\"><img src=\"https://colab.research.google.com/assets/colab-badge.svg\" alt=\"Open In Colab\"/></a>"
      ]
    },
    {
      "cell_type": "markdown",
      "source": [
        "Step 1.1 & 1.2: Installations and Imports"
      ],
      "metadata": {
        "id": "xHyNNgzB-t1d"
      }
    },
    {
      "cell_type": "code",
      "execution_count": null,
      "metadata": {
        "id": "7E7D8Agn-heY"
      },
      "outputs": [],
      "source": [
        "!pip install qiskit -q\n",
        "!pip install qiskit-machine-learning -q\n",
        "!pip install qiskit-algorithms -q"
      ]
    },
    {
      "cell_type": "code",
      "source": [
        "import pandas as np\n",
        "from google.colab import files\n",
        "import matplotlib.pyplot as plt\n",
        "from sklearn.preprocessing import StandardScaler\n",
        "from sklearn.decomposition import PCA\n",
        "from sklearn.model_selection import train_test_split\n",
        "from sklearn.svm import SVC\n",
        "from sklearn.metrics import classification_report, roc_auc_score, roc_curve\n",
        "\n",
        "# Quantum Imports\n",
        "from qiskit.circuit.library import ZZFeatureMap\n",
        "from qiskit_machine_learning.kernels import FidelityStatevectorKernel\n",
        "from qiskit.primitives import Sampler\n",
        "from qiskit_algorithms.state_fidelities import ComputeUncompute\n",
        "\n",
        "print(\"All libraries imported successfully.\")"
      ],
      "metadata": {
        "colab": {
          "base_uri": "https://localhost:8080/"
        },
        "id": "qGrzbEbG-04f",
        "outputId": "8b09a01e-3ef3-4dd8-db24-0cb7a936f5de"
      },
      "execution_count": null,
      "outputs": [
        {
          "output_type": "stream",
          "name": "stdout",
          "text": [
            "All libraries imported successfully.\n"
          ]
        }
      ]
    },
    {
      "cell_type": "markdown",
      "source": [
        "Import the csv siuccessful from drive"
      ],
      "metadata": {
        "id": "g-YJILZ4_c7B"
      }
    },
    {
      "cell_type": "code",
      "source": [
        "from google.colab import drive\n",
        "drive.mount('/content/drive')\n",
        "df = np.read_csv('/content/drive/MyDrive/creditcard.csv')\n",
        "print(\"File loaded successfully from Google Drive!\")\n",
        "print(df.head())"
      ],
      "metadata": {
        "colab": {
          "base_uri": "https://localhost:8080/"
        },
        "id": "vHq55iFE_exN",
        "outputId": "6626b216-8984-4246-fe64-c8b5553f048b"
      },
      "execution_count": null,
      "outputs": [
        {
          "output_type": "stream",
          "name": "stdout",
          "text": [
            "Drive already mounted at /content/drive; to attempt to forcibly remount, call drive.mount(\"/content/drive\", force_remount=True).\n",
            "File loaded successfully from Google Drive!\n",
            "   Time        V1        V2        V3        V4        V5        V6        V7  \\\n",
            "0   0.0 -1.359807 -0.072781  2.536347  1.378155 -0.338321  0.462388  0.239599   \n",
            "1   0.0  1.191857  0.266151  0.166480  0.448154  0.060018 -0.082361 -0.078803   \n",
            "2   1.0 -1.358354 -1.340163  1.773209  0.379780 -0.503198  1.800499  0.791461   \n",
            "3   1.0 -0.966272 -0.185226  1.792993 -0.863291 -0.010309  1.247203  0.237609   \n",
            "4   2.0 -1.158233  0.877737  1.548718  0.403034 -0.407193  0.095921  0.592941   \n",
            "\n",
            "         V8        V9  ...       V21       V22       V23       V24       V25  \\\n",
            "0  0.098698  0.363787  ... -0.018307  0.277838 -0.110474  0.066928  0.128539   \n",
            "1  0.085102 -0.255425  ... -0.225775 -0.638672  0.101288 -0.339846  0.167170   \n",
            "2  0.247676 -1.514654  ...  0.247998  0.771679  0.909412 -0.689281 -0.327642   \n",
            "3  0.377436 -1.387024  ... -0.108300  0.005274 -0.190321 -1.175575  0.647376   \n",
            "4 -0.270533  0.817739  ... -0.009431  0.798278 -0.137458  0.141267 -0.206010   \n",
            "\n",
            "        V26       V27       V28  Amount  Class  \n",
            "0 -0.189115  0.133558 -0.021053  149.62      0  \n",
            "1  0.125895 -0.008983  0.014724    2.69      0  \n",
            "2 -0.139097 -0.055353 -0.059752  378.66      0  \n",
            "3 -0.221929  0.062723  0.061458  123.50      0  \n",
            "4  0.502292  0.219422  0.215153   69.99      0  \n",
            "\n",
            "[5 rows x 31 columns]\n"
          ]
        }
      ]
    },
    {
      "cell_type": "markdown",
      "source": [
        "**The** Downsampling Method"
      ],
      "metadata": {
        "id": "QrYB0wJb_mfk"
      }
    },
    {
      "cell_type": "code",
      "source": [
        "# Separate the original DataFrame into two classes\n",
        "fraud = df[df['Class'] == 1]\n",
        "non_fraud = df[df['Class'] == 0]\n",
        "\n",
        "# Randomly select non-fraud samples to match the number of fraud samples\n",
        "non_fraud_sampled = non_fraud.sample(n=len(fraud), random_state=42)\n",
        "\n",
        "# Combine the fraud and the downsampled non-fraud samples\n",
        "balanced_df = np.concat([fraud, non_fraud_sampled])\n",
        "\n",
        "# Shuffle the new balanced DataFrame to mix the rows\n",
        "balanced_df = balanced_df.sample(frac=1, random_state=42).reset_index(drop=True)\n",
        "\n",
        "print(\"Dataset has been balanced using downsampling.\")\n",
        "print(\"New dataset shape:\", balanced_df.shape)\n",
        "print(\"\\nClass distribution in the new dataset:\")\n",
        "print(balanced_df['Class'].value_counts())"
      ],
      "metadata": {
        "colab": {
          "base_uri": "https://localhost:8080/"
        },
        "id": "NFnvd8Ld_QrN",
        "outputId": "a636d60d-6964-4525-a9ed-3555d11fe43d"
      },
      "execution_count": null,
      "outputs": [
        {
          "output_type": "stream",
          "name": "stdout",
          "text": [
            "Dataset has been balanced using downsampling.\n",
            "New dataset shape: (984, 31)\n",
            "\n",
            "Class distribution in the new dataset:\n",
            "Class\n",
            "0    492\n",
            "1    492\n",
            "Name: count, dtype: int64\n"
          ]
        }
      ]
    },
    {
      "cell_type": "markdown",
      "source": [
        "**Standardize and Apply PCA**"
      ],
      "metadata": {
        "id": "0g1hUaht_tSG"
      }
    },
    {
      "cell_type": "code",
      "source": [
        "# Separate features (X) from the target (y) using the balanced_df\n",
        "X = balanced_df.drop('Class', axis=1)\n",
        "y = balanced_df['Class']\n",
        "\n",
        "# Initialize the scaler and apply it to the 'Time' and 'Amount' columns\n",
        "scaler = StandardScaler()\n",
        "X[['Time', 'Amount']] = scaler.fit_transform(X[['Time', 'Amount']])\n",
        "\n",
        "# Initialize PCA to reduce our 30 features down to 3\n",
        "pca = PCA(n_components=3)\n",
        "\n",
        "# Apply PCA to the dataset\n",
        "X_pca = pca.fit_transform(X)\n",
        "\n",
        "print(\"Standardization and PCA complete.\")\n",
        "print(\"The new shape of our feature set is:\", X_pca.shape)"
      ],
      "metadata": {
        "colab": {
          "base_uri": "https://localhost:8080/"
        },
        "id": "Jtd53I4W_nPo",
        "outputId": "c86ed054-2dac-4eb7-8ad8-84292cf7225c"
      },
      "execution_count": null,
      "outputs": [
        {
          "output_type": "stream",
          "name": "stdout",
          "text": [
            "Standardization and PCA complete.\n",
            "The new shape of our feature set is: (984, 3)\n"
          ]
        }
      ]
    },
    {
      "cell_type": "markdown",
      "source": [
        "** Split Data**"
      ],
      "metadata": {
        "id": "48c3vf0W_zrk"
      }
    },
    {
      "cell_type": "code",
      "source": [
        "# Split the data into training (80%) and testing (20%) sets\n",
        "X_train, X_test, y_train, y_test = train_test_split(\n",
        "    X_pca, y, test_size=0.2, random_state=42, stratify=y\n",
        ")\n",
        "\n",
        "print(\"Data splitting complete.\")\n",
        "print(\"Shape of training features (X_train):\", X_train.shape)\n",
        "print(\"Shape of testing features (X_test):\", X_test.shape)"
      ],
      "metadata": {
        "colab": {
          "base_uri": "https://localhost:8080/"
        },
        "id": "wFGXsQF9_08X",
        "outputId": "ca5a65f4-5d86-4f43-8310-d967e8fe43c9"
      },
      "execution_count": null,
      "outputs": [
        {
          "output_type": "stream",
          "name": "stdout",
          "text": [
            "Data splitting complete.\n",
            "Shape of training features (X_train): (787, 3)\n",
            "Shape of testing features (X_test): (197, 3)\n"
          ]
        }
      ]
    },
    {
      "cell_type": "markdown",
      "source": [
        "Create Feature Map, Kernel & Diagram"
      ],
      "metadata": {
        "id": "lJfj0vBY_6Lr"
      }
    },
    {
      "cell_type": "code",
      "source": [
        "# Define the quantum feature map for our 3 features\n",
        "feature_map = ZZFeatureMap(feature_dimension=3, reps=1)\n",
        "\n",
        "print(\"Quantum feature map created successfully. Here is the circuit diagram:\")\n",
        "\n",
        "# Draw the circuit diagram for your notebook\n",
        "feature_map.draw()"
      ],
      "metadata": {
        "colab": {
          "base_uri": "https://localhost:8080/",
          "height": 142
        },
        "id": "7p7gIChS_7lj",
        "outputId": "c344a880-f86b-416a-d7d2-2364f6371276"
      },
      "execution_count": null,
      "outputs": [
        {
          "output_type": "stream",
          "name": "stdout",
          "text": [
            "Quantum feature map created successfully. Here is the circuit diagram:\n"
          ]
        },
        {
          "output_type": "execute_result",
          "data": {
            "text/plain": [
              "     ┌───────────────────────────────┐\n",
              "q_0: ┤0                              ├\n",
              "     │                               │\n",
              "q_1: ┤1 ZZFeatureMap(x[0],x[1],x[2]) ├\n",
              "     │                               │\n",
              "q_2: ┤2                              ├\n",
              "     └───────────────────────────────┘"
            ],
            "text/html": [
              "<pre style=\"word-wrap: normal;white-space: pre;background: #fff0;line-height: 1.1;font-family: &quot;Courier New&quot;,Courier,monospace\">     ┌───────────────────────────────┐\n",
              "q_0: ┤0                              ├\n",
              "     │                               │\n",
              "q_1: ┤1 ZZFeatureMap(x[0],x[1],x[2]) ├\n",
              "     │                               │\n",
              "q_2: ┤2                              ├\n",
              "     └───────────────────────────────┘</pre>"
            ]
          },
          "metadata": {},
          "execution_count": 11
        }
      ]
    },
    {
      "cell_type": "markdown",
      "source": [
        "Quantum Kernal"
      ],
      "metadata": {
        "id": "mTCUdJAcAG8r"
      }
    },
    {
      "cell_type": "code",
      "source": [
        "# Create the quantum kernel using the feature map we just made\n",
        "quantum_kernel = FidelityStatevectorKernel(feature_map=feature_map)\n",
        "\n",
        "print(\"Quantum kernel built successfully.\")"
      ],
      "metadata": {
        "colab": {
          "base_uri": "https://localhost:8080/"
        },
        "id": "y7xY2Gu9AH3d",
        "outputId": "76043479-95d8-4235-815d-a394232a59f9"
      },
      "execution_count": null,
      "outputs": [
        {
          "output_type": "stream",
          "name": "stdout",
          "text": [
            "Quantum kernel built successfully.\n"
          ]
        }
      ]
    },
    {
      "cell_type": "markdown",
      "source": [
        "Compute Kernel Matrices (Ideal)"
      ],
      "metadata": {
        "id": "vcsXweKQAUN8"
      }
    },
    {
      "cell_type": "code",
      "source": [
        "# Compute the training kernel matrix\n",
        "# This calculates the similarity between each pair of points in the training data.\n",
        "print(\"Computing the training kernel matrix...\")\n",
        "matrix_train = quantum_kernel.evaluate(x_vec=X_train)\n",
        "print(\"Training matrix computed.\")\n",
        "\n",
        "# Compute the testing kernel matrix\n",
        "# This calculates the similarity between each test point and every training point.\n",
        "print(\"\\nComputing the testing kernel matrix...\")\n",
        "matrix_test = quantum_kernel.evaluate(x_vec=X_test, y_vec=X_train)\n",
        "print(\"Testing matrix computed.\")\n",
        "\n",
        "print(\"\\nKernel matrix computation is complete.\")"
      ],
      "metadata": {
        "colab": {
          "base_uri": "https://localhost:8080/"
        },
        "id": "Fo7ZUZpgAJKD",
        "outputId": "ac1c3a68-3f0f-4568-d88a-fdf3b384d8ce"
      },
      "execution_count": null,
      "outputs": [
        {
          "output_type": "stream",
          "name": "stdout",
          "text": [
            "Computing the training kernel matrix...\n",
            "Training matrix computed.\n",
            "\n",
            "Computing the testing kernel matrix...\n",
            "Testing matrix computed.\n",
            "\n",
            "Kernel matrix computation is complete.\n"
          ]
        }
      ]
    },
    {
      "cell_type": "markdown",
      "source": [
        "Train Ideal QSVM"
      ],
      "metadata": {
        "id": "i7_DFdfHAZUy"
      }
    },
    {
      "cell_type": "code",
      "source": [
        "# Initialize the Support Vector Classifier and tell it to use our precomputed kernel\n",
        "qsvm = SVC(kernel='precomputed', probability=True)\n",
        "\n",
        "# Train the model using the quantum kernel training matrix and the training labels\n",
        "print(\"Training the QSVM model...\")\n",
        "qsvm.fit(matrix_train, y_train)\n",
        "\n",
        "print(\"QSVM model training complete.\")"
      ],
      "metadata": {
        "colab": {
          "base_uri": "https://localhost:8080/"
        },
        "id": "cxwYPiVuAeJo",
        "outputId": "3342cc00-7498-4fba-ecb4-b1978eb4d07d"
      },
      "execution_count": null,
      "outputs": [
        {
          "output_type": "stream",
          "name": "stdout",
          "text": [
            "Training the QSVM model...\n",
            "QSVM model training complete.\n"
          ]
        }
      ]
    },
    {
      "cell_type": "code",
      "source": [
        "# Use the trained model to make predictions on the test data\n",
        "print(\"Making predictions on the test set...\")\n",
        "y_pred_qsvm = qsvm.predict(matrix_test)\n",
        "\n",
        "# Print a detailed classification report\n",
        "print(\"\\n--- QSVM Performance Report ---\")\n",
        "print(classification_report(y_test, y_pred_qsvm))\n",
        "\n",
        "# Calculate and print the ROC AUC score\n",
        "roc_auc = roc_auc_score(y_test, qsvm.predict_proba(matrix_test)[:,1])\n",
        "print(f\"ROC AUC Score: {roc_auc:.4f}\")"
      ],
      "metadata": {
        "colab": {
          "base_uri": "https://localhost:8080/"
        },
        "id": "KyHhdc1hA5ui",
        "outputId": "01308ae2-ba65-4817-dce8-0c68c9d166fe"
      },
      "execution_count": null,
      "outputs": [
        {
          "output_type": "stream",
          "name": "stdout",
          "text": [
            "Making predictions on the test set...\n",
            "\n",
            "--- QSVM Performance Report ---\n",
            "              precision    recall  f1-score   support\n",
            "\n",
            "           0       0.80      0.77      0.78        99\n",
            "           1       0.77      0.81      0.79        98\n",
            "\n",
            "    accuracy                           0.79       197\n",
            "   macro avg       0.79      0.79      0.79       197\n",
            "weighted avg       0.79      0.79      0.79       197\n",
            "\n",
            "ROC AUC Score: 0.8483\n"
          ]
        }
      ]
    },
    {
      "cell_type": "markdown",
      "source": [
        "Train and Evaluate Classical SVM and Report"
      ],
      "metadata": {
        "id": "P7xQJDmQBYaR"
      }
    },
    {
      "cell_type": "code",
      "source": [
        "# Initialize a classical SVM with an RBF kernel\n",
        "classical_svm = SVC(kernel='rbf', probability=True, random_state=42)\n",
        "\n",
        "# Train the model\n",
        "print(\"Training the classical SVM model...\")\n",
        "classical_svm.fit(X_train, y_train)\n",
        "print(\"Training complete.\")\n",
        "\n",
        "# Make predictions on the test set\n",
        "print(\"\\nMaking predictions...\")\n",
        "y_pred_classical = classical_svm.predict(X_test)\n",
        "\n",
        "# Print a detailed classification report\n",
        "print(\"\\n--- Classical SVM Performance Report ---\")\n",
        "print(classification_report(y_test, y_pred_classical))\n",
        "\n",
        "# Calculate and print the ROC AUC score\n",
        "roc_auc_classical = roc_auc_score(y_test, classical_svm.predict_proba(X_test)[:,1])\n",
        "print(f\"ROC AUC Score: {roc_auc_classical:.4f}\")"
      ],
      "metadata": {
        "colab": {
          "base_uri": "https://localhost:8080/"
        },
        "id": "J9VizyMOBE5k",
        "outputId": "2beb69b3-6e61-407b-ba63-b5758588b380"
      },
      "execution_count": null,
      "outputs": [
        {
          "output_type": "stream",
          "name": "stdout",
          "text": [
            "Training the classical SVM model...\n",
            "Training complete.\n",
            "\n",
            "Making predictions...\n",
            "\n",
            "--- Classical SVM Performance Report ---\n",
            "              precision    recall  f1-score   support\n",
            "\n",
            "           0       0.85      0.99      0.92        99\n",
            "           1       0.99      0.83      0.90        98\n",
            "\n",
            "    accuracy                           0.91       197\n",
            "   macro avg       0.92      0.91      0.91       197\n",
            "weighted avg       0.92      0.91      0.91       197\n",
            "\n",
            "ROC AUC Score: 0.9718\n"
          ]
        }
      ]
    },
    {
      "cell_type": "markdown",
      "source": [
        "Plot ROC Curve Comparison"
      ],
      "metadata": {
        "id": "0FqdQfSFBcZZ"
      }
    },
    {
      "cell_type": "code",
      "source": [
        "# --- Calculate ROC curve data for both models ---\n",
        "# Get prediction probabilities for the positive class (1)\n",
        "y_scores_qsvm = qsvm.predict_proba(matrix_test)[:, 1]\n",
        "y_scores_classical = classical_svm.predict_proba(X_test)[:, 1]\n",
        "\n",
        "# Calculate the points for each curve\n",
        "fpr_qsvm, tpr_qsvm, _ = roc_curve(y_test, y_scores_qsvm)\n",
        "fpr_classical, tpr_classical, _ = roc_curve(y_test, y_scores_classical)\n",
        "\n",
        "# --- Plot both curves ---\n",
        "plt.figure(figsize=(8, 6))\n",
        "plt.plot(fpr_qsvm, tpr_qsvm, color='blue', lw=2, label=f'QSVM (AUC = {roc_auc:.4f})')\n",
        "plt.plot(fpr_classical, tpr_classical, color='red', lw=2, label=f'Classical SVM (AUC = {roc_auc_classical:.4f})')\n",
        "\n",
        "# --- Format the plot ---\n",
        "plt.plot([0, 1], [0, 1], color='gray', linestyle='--') # Dashed line for random guess\n",
        "plt.xlim([0.0, 1.0])\n",
        "plt.ylim([0.0, 1.05])\n",
        "plt.xlabel('False Positive Rate')\n",
        "plt.ylabel('True Positive Rate')\n",
        "plt.title('ROC Curve Comparison: QSVM vs. Classical SVM')\n",
        "plt.legend(loc=\"lower right\")\n",
        "plt.grid(True)\n",
        "plt.show()"
      ],
      "metadata": {
        "colab": {
          "base_uri": "https://localhost:8080/",
          "height": 564
        },
        "id": "bw-toUjpBF7d",
        "outputId": "eee10d78-9e48-4d0b-fe1e-ede58ea7662f"
      },
      "execution_count": null,
      "outputs": [
        {
          "output_type": "display_data",
          "data": {
            "text/plain": [
              "<Figure size 800x600 with 1 Axes>"
            ],
            "image/png": "[encoded data removed]"
          },
          "metadata": {}
        }
      ]
    },
    {
      "cell_type": "code",
      "source": [
        "# =======================================================\n",
        "# Step 5: Error Analysis & Noise Impact (Corrected)\n",
        "# =======================================================\n",
        "print(\"--- Starting Noise Simulation (New Method) ---\")\n",
        "\n",
        "import numpy as np\n",
        "\n",
        "# This custom function manually computes the noisy kernel matrix\n",
        "def compute_noisy_kernel_matrix(X1, X2, feature_map):\n",
        "    print(f\"Calculating noisy matrix of size {len(X1)}x{len(X2)}...\")\n",
        "    sampler = Sampler()\n",
        "    fidelity = ComputeUncompute(sampler=sampler)\n",
        "    matrix = np.zeros((len(X1), len(X2)))\n",
        "    for i, x1 in enumerate(X1):\n",
        "        for j, x2 in enumerate(X2):\n",
        "            # CORRECTED LINE: Use .assign_parameters instead of .bind_parameters\n",
        "            circuit1 = feature_map.assign_parameters(x1)\n",
        "            # CORRECTED LINE: Use .assign_parameters instead of .bind_parameters\n",
        "            circuit2 = feature_map.assign_parameters(x2)\n",
        "\n",
        "            result = fidelity.run([circuit1], [circuit2]).result()\n",
        "            matrix[i, j] = result.fidelities[0]\n",
        "    print(\"Calculation complete.\")\n",
        "    return matrix\n",
        "\n",
        "# Re-compute kernel matrices with noise using our new function\n",
        "matrix_train_noisy = compute_noisy_kernel_matrix(X_train, X_train, feature_map)\n",
        "matrix_test_noisy = compute_noisy_kernel_matrix(X_test, X_train, feature_map)\n",
        "\n",
        "# Train and evaluate the new noisy QSVM\n",
        "qsvm_noisy = SVC(kernel='precomputed')\n",
        "qsvm_noisy.fit(matrix_train_noisy, y_train)\n",
        "y_pred_qsvm_noisy = qsvm_noisy.predict(matrix_test_noisy)\n",
        "\n",
        "print(\"\\n--- Noisy QSVM Performance Report ---\")\n",
        "print(classification_report(y_test, y_pred_qsvm_noisy))"
      ],
      "metadata": {
        "colab": {
          "base_uri": "https://localhost:8080/"
        },
        "id": "m8GLs2_oBmA8",
        "outputId": "9e6c6c2c-4de6-40be-aea3-9b39f2a9894d"
      },
      "execution_count": null,
      "outputs": [
        {
          "metadata": {
            "tags": null
          },
          "name": "stdout",
          "output_type": "stream",
          "text": [
            "--- Starting Noise Simulation (New Method) ---\n",
            "Calculating noisy matrix of size 787x787...\n"
          ]
        },
        {
          "metadata": {
            "tags": null
          },
          "name": "stderr",
          "output_type": "stream",
          "text": [
            "/tmp/ipython-input-3050919511.py:11: DeprecationWarning: The class ``qiskit.primitives.sampler.Sampler`` is deprecated as of qiskit 1.2. It will be removed no earlier than 3 months after the release date. All implementations of the `BaseSamplerV1` interface have been deprecated in favor of their V2 counterparts. The V2 alternative for the `Sampler` class is `StatevectorSampler`.\n",
            "  sampler = Sampler()\n"
          ]
        }
      ]
    }
  ]
}